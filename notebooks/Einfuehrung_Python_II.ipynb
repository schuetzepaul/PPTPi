{
 "cells": [
  {
   "cell_type": "markdown",
   "id": "3dc424d0",
   "metadata": {},
   "source": [
    "# Arrays und Plotting"
   ]
  },
  {
   "cell_type": "markdown",
   "id": "7ba151e8",
   "metadata": {},
   "source": [
    "Hier wird nun mit zwei Paketen gearbeitet. `matplotlib` für alles rund ums visualisieren der daten (plotten) und `numpy` zum hantieren mit den Daten in Form von Arrays."
   ]
  },
  {
   "cell_type": "code",
   "execution_count": null,
   "id": "1e72c531-083a-4484-8577-17a4b8093a8c",
   "metadata": {},
   "outputs": [],
   "source": [
    "import matplotlib.pyplot as plt\n",
    "import numpy as np"
   ]
  },
  {
   "cell_type": "markdown",
   "id": "d5cb5d0c",
   "metadata": {},
   "source": [
    "In der folgenden Zelle wollen wir eine Reihe von zufällig gewählten Werten in einer Liste als unsere $x$-Werte nutzen.\n",
    "Die $y$-Werte sollen dann entsprechend einer quadratischen Funktion $y = f(x) = x^2$ errechnet werden:"
   ]
  },
  {
   "cell_type": "code",
   "execution_count": null,
   "id": "74f0b0e1",
   "metadata": {},
   "outputs": [],
   "source": [
    "x = [0, 1 , 1.5, 2.0, 2.5, 2.75, 3.0, 3.25, 3.3, 3.325, 3.5]"
   ]
  },
  {
   "cell_type": "code",
   "execution_count": null,
   "id": "ce930122",
   "metadata": {},
   "outputs": [],
   "source": [
    "y = x**2"
   ]
  },
  {
   "cell_type": "markdown",
   "id": "b157da5a",
   "metadata": {},
   "source": [
    "Das funktioniert so nicht, da der python-syntax (`x**2`) zwar das quadrieren von Zahlen (also `int` oder `float` Objekten) erlaubt, aber wir hier ja eine Liste von Zahlen haben!\n",
    "Man müsste also eigentlich jede Zahl aus der Liste $x$ einzeln quadrieren. Das ist mühsam und geht viel schneller wenn man `numpy`-Arrays nutzt.\n",
    "Diese `numpy`-Arrays erweitern den python-syntax um Funktionalitäten, damit solche Dinge bequem und gut lesbar bleiben:"
   ]
  },
  {
   "cell_type": "code",
   "execution_count": null,
   "id": "a8de62b4",
   "metadata": {},
   "outputs": [],
   "source": [
    "x = np.array(x)\n",
    "y = x**2"
   ]
  },
  {
   "cell_type": "code",
   "execution_count": null,
   "id": "95159371",
   "metadata": {},
   "outputs": [],
   "source": [
    "print(y)"
   ]
  },
  {
   "cell_type": "markdown",
   "id": "40f2b061",
   "metadata": {},
   "source": [
    "Hier wurde in der ersten Zeile zuerst die Liste `x` zu einem `numpy`-Array umgewandelt. Für diese kann man dann viele Operationen (wie z.B. `+`,`-`,`*`,`/` aber eben auch potenzieren `**`) wie bei einfachen Zahlen verwenden, wie es in der zweiten Zeile mit dem Quadrieren passiert ist."
   ]
  },
  {
   "cell_type": "markdown",
   "id": "d300e205",
   "metadata": {},
   "source": [
    "Diese beiden Arrays (`x` und `y`), kann man dann mithilfe von `matplotlib` ganz einfach als Graph darstellen. In der nächsten Zeile passiert genau das. Hierfür wird zunächst eine \"Leinwand\" (Canvas) mit `plt.subplots()` erstellt. Diese Funktion gibt zwei Objekte zurück. Das erste ist das `Figure`-Objekt welches wir in der Variable `f` speichern. Dieses umfasst die komplette Leinwand und kann später z.B. dazu verwendet werden um die Leinwand als `.png` Bild zu speichern.\n",
    "\n",
    "Das zweite Objekt ist ein `Axes`-Objekt und gibt Zugriff auf das Koordinaten-System, das auf die Leinwand gezeichnet wird. Mit diesem Objekt können wir also unsere Daten ins Koordiatensystem zeichnen mit dem `plot`-Befehl. Mit `ax.plot(x, y, label=\"$y = x^2$\")` wird eine Linie zwischen den $(x,y)$-Wertepaaren aus unseren Arrays gezeichnet:"
   ]
  },
  {
   "cell_type": "code",
   "execution_count": null,
   "id": "ab59bfaa",
   "metadata": {},
   "outputs": [],
   "source": [
    "f,ax = plt.subplots()\n",
    "\n",
    "ax.plot(x, y, label = \"$y = x^2$\")\n",
    "ax.legend(fontsize=15)\n",
    "ax.set_xlabel(\"Beschriftung x-Achse\", fontsize=15)\n",
    "ax.set_ylabel(\"Beschriftung y-Achse\", fontsize=15)"
   ]
  },
  {
   "cell_type": "markdown",
   "id": "5f191035",
   "metadata": {},
   "source": [
    "Das sieht schonmal so aus wie man es von einer quadratischen Funktion erwartet, allerdings sieht es noch sehr ruckelig aus. Das liegt daran, dass wir nur sehr wenige Wertepaare zeichnen und zwischen den einzelnen Punkten einfach eine gerade Linie zeichnen.\n",
    "In der nächsten Zelle wird das veranschaulicht mit den drei Linien, die mit verschieden vielen Wertepaaren gezeichnet werden."
   ]
  },
  {
   "cell_type": "code",
   "execution_count": null,
   "id": "051dc28c",
   "metadata": {},
   "outputs": [],
   "source": [
    "# Die linspace Funktion erstellt einen array mit einer von euch bestimmten Anzahl an Werten\n",
    "# Die Werte liegen dabei in einem Bereich den Ihr ebenfalls angebt. \n",
    "x3 = np.linspace(-2,2,3)\n",
    "# x3 ist hier ein array, der 3 Werte im Bereich von -2 und 2 hat -> [-2, 0, 2]\n",
    "x5 = np.linspace(-2,2,5)\n",
    "# x5 hat 2 Werte mehr -> [-2, -1, 0, 1, 2]\n",
    "x100 = np.linspace(-2,2,100)\n",
    "#x100 hat 100 Werte, die alle den gleichen Abstand zueinander haben \n",
    "f,ax = plt.subplots()\n",
    "ax.plot(x3, x3**2, label = \"$y = x^2$ (3 Werte)\")\n",
    "ax.plot(x5, x5**2, label = \"$y = x^2$ (5 Werte)\")\n",
    "ax.plot(x100, x100**2, label = \"$y = x^2$ (100 Werte)\")\n",
    "ax.legend()\n",
    "ax.set_xlabel(\"x\")\n",
    "ax.set_ylabel(\"y\")"
   ]
  },
  {
   "cell_type": "markdown",
   "id": "13ab2535",
   "metadata": {},
   "source": [
    "Hier wird deutlich dass je mehr Wertepaare wir nutzen um diese Funktion ($f(x)=x^2$) zu zeichnen, desto genau wird der Graph."
   ]
  },
  {
   "cell_type": "markdown",
   "id": "f8c0c88f",
   "metadata": {},
   "source": [
    "# Übung 1\n",
    "Jetzt probiert mal die Graphen aus dem plot hier nachzubauen. \n",
    "\n",
    "Zur Erinnerung: die quadratische Funktion $f(x) = m \\cdot x^2 + b$ hat das Minimum bei $x=0 \\rightarrow f(x=0) = m\\cdot0^2+b = b$\n",
    "\n",
    "und die quadratische Funktion $f(x) = m \\cdot (c-x) +b $ hat das Minimum bei $x=c \\rightarrow f(x=c)= m\\cdot(c-c)^2 + b = b$\n",
    "\n",
    "![ex1](exercise1.png)"
   ]
  },
  {
   "cell_type": "code",
   "execution_count": null,
   "id": "70aeb79f",
   "metadata": {},
   "outputs": [],
   "source": [
    "f,ax = plt.subplots()\n",
    "x = \n",
    "y_blau \n",
    "y_orange = \n",
    "\n",
    "ax.plot(x, y_blau label=\"blau\")\n"
   ]
  },
  {
   "cell_type": "markdown",
   "id": "4e2ab7be",
   "metadata": {},
   "source": [
    "Mehr matplotlib tutorials:\n",
    "- https://matplotlib.org/stable/gallery/lines_bars_and_markers/simple_plot.html\n",
    "- https://matplotlib.org/stable/gallery/lines_bars_and_markers/spectrum_demo.html"
   ]
  },
  {
   "cell_type": "markdown",
   "id": "b26f2458",
   "metadata": {},
   "source": [
    "# Sense Hat\n",
    "\n",
    "Nun noch eine kurze Einführung zum SenseHat. Hier nutzen wir das Paket `sense_hat`, dass uns Zugriff auf alle Funktionen des SenseHat gibt:"
   ]
  },
  {
   "cell_type": "code",
   "execution_count": null,
   "id": "d27122f2",
   "metadata": {},
   "outputs": [],
   "source": [
    "from sense_hat import SenseHat\n"
   ]
  },
  {
   "cell_type": "markdown",
   "id": "59d77d37",
   "metadata": {},
   "source": [
    "Zuerst müssen wir die Verbindung zum SenseHat herstellen indem wir ein Objekt `SenseHat` initialisieren und in der Variable `sense` speichern. \n",
    "Nun können wir z.B. auf der LED Matrix Text darstellen:"
   ]
  },
  {
   "cell_type": "code",
   "execution_count": null,
   "id": "5f65a246",
   "metadata": {},
   "outputs": [],
   "source": [
    "\n",
    "sense = SenseHat()\n",
    "sense.set_rotation(180)\n",
    "sense.show_message(\"PPT 2022\")\n",
    "\n",
    "#Warnungen könnt Ihr hier (meistens) ignorieren."
   ]
  },
  {
   "cell_type": "markdown",
   "id": "ed8e0f5f",
   "metadata": {},
   "source": [
    "Um Sensoren, wie zum Beispiel den Temperatur-Sensor auszulesen, gibt es eigene Funktionen die Ihr am `SenseHat`-Objekt ausführen könnt (z.B. `get_temperature()`).\n",
    "\n",
    "Die volle Liste an Funktionen findet Ihr hier: https://sense-hat.readthedocs.io/en/latest/api/\n",
    "\n",
    "Um also die aktuelle Temperatur vom SenseHat zu erfragen müsst Ihr einfach die folgende Zelle ausführen:"
   ]
  },
  {
   "cell_type": "code",
   "execution_count": null,
   "id": "099c8dd7",
   "metadata": {},
   "outputs": [],
   "source": [
    "sense.get_temperature()"
   ]
  },
  {
   "cell_type": "markdown",
   "id": "af803f08",
   "metadata": {},
   "source": [
    "Nun probiert doch mal mit dem was ihr bisher gelernt habt eine Reihe an Messdaten Eurer Wahl (z.B. Temperatur) aufzunehmen und zu plotten.\n",
    "\n",
    "Tipp: eine `for`-loop ist hier hilfreich"
   ]
  },
  {
   "cell_type": "code",
   "execution_count": null,
   "id": "9e8b7cd6",
   "metadata": {},
   "outputs": [],
   "source": [
    "# lets goo\n"
   ]
  },
  {
   "cell_type": "code",
   "execution_count": null,
   "id": "8f137b29",
   "metadata": {},
   "outputs": [],
   "source": []
  }
 ],
 "metadata": {
  "kernelspec": {
   "display_name": "Python 3 (ipykernel)",
   "language": "python",
   "name": "python3"
  },
  "language_info": {
   "codemirror_mode": {
    "name": "ipython",
    "version": 3
   },
   "file_extension": ".py",
   "mimetype": "text/x-python",
   "name": "python",
   "nbconvert_exporter": "python",
   "pygments_lexer": "ipython3",
   "version": "3.11.2"
  }
 },
 "nbformat": 4,
 "nbformat_minor": 5
}
