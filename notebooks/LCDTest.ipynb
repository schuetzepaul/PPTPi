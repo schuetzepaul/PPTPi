{
 "cells": [
  {
   "cell_type": "markdown",
   "id": "03526a6b-141e-4c5a-a2d4-51c9f8638ab6",
   "metadata": {
    "tags": []
   },
   "source": [
    "# 16x2 LCD printout\n",
    "\n",
    "Following the Instructions from https://pimylifeup.com/raspberry-pi-lcd-16x2/\n",
    "\n",
    "![circuit-diagram](https://cdn.pimylifeup.com/wp-content/uploads/2016/09/Raspberry-Pi-LCD-16x2-Circuit-Diagram-v1.png)\n",
    "\n"
   ]
  },
  {
   "cell_type": "code",
   "execution_count": 1,
   "id": "fc7f2e31-c0db-4586-b9ac-95ea3a6877ad",
   "metadata": {},
   "outputs": [],
   "source": [
    "from RPLCD import CharLCD\n",
    "from RPi import GPIO\n"
   ]
  },
  {
   "cell_type": "code",
   "execution_count": 2,
   "id": "b6f70ff0-1cfd-4334-8087-16b7a41277c8",
   "metadata": {},
   "outputs": [
    {
     "name": "stderr",
     "output_type": "stream",
     "text": [
      "/home/pi/PPT-env/lib/python3.7/site-packages/RPLCD/gpio.py:149: RuntimeWarning: This channel is already in use, continuing anyway.  Use GPIO.setwarnings(False) to disable warnings.\n",
      "  GPIO.setup(pin, GPIO.OUT)\n"
     ]
    }
   ],
   "source": [
    "lcd = CharLCD(numbering_mode=GPIO.BCM,\n",
    "              cols = 16,\n",
    "              rows = 2,\n",
    "              pin_rs = 25, pin_e = 24,\n",
    "              pins_data = [23,17,18,22],\n",
    "              pin_backlight=4\n",
    "             )"
   ]
  },
  {
   "cell_type": "code",
   "execution_count": 3,
   "id": "7aa35168-7033-468f-bd79-6b1d2ee3c26b",
   "metadata": {},
   "outputs": [],
   "source": [
    "lcd.write_string(u\"Physik-Projekt- Tage 2022!\")\n"
   ]
  },
  {
   "cell_type": "code",
   "execution_count": 4,
   "id": "55403930-ee7e-4dcb-8756-076a7d0d0552",
   "metadata": {},
   "outputs": [],
   "source": [
    "smiley = (\n",
    "    0b00000,\n",
    "    0b01010,\n",
    "    0b01010,\n",
    "    0b00000,\n",
    "    0b10001,\n",
    "    0b10001,\n",
    "    0b01110,\n",
    "    0b00000,\n",
    ")\n",
    "\n",
    "#save smiley at postion 0\n",
    "lcd.create_char(0,smiley)\n",
    "\n",
    "#write smiley at current cursor position\n",
    "lcd.write(0)"
   ]
  },
  {
   "cell_type": "code",
   "execution_count": 5,
   "id": "47baf4c9-0de2-4a79-a16f-e70855c23c38",
   "metadata": {},
   "outputs": [],
   "source": [
    "lcd.clear()"
   ]
  }
 ],
 "metadata": {
  "kernelspec": {
   "display_name": "Python 3 (ipykernel)",
   "language": "python",
   "name": "python3"
  },
  "language_info": {
   "codemirror_mode": {
    "name": "ipython",
    "version": 3
   },
   "file_extension": ".py",
   "mimetype": "text/x-python",
   "name": "python",
   "nbconvert_exporter": "python",
   "pygments_lexer": "ipython3",
   "version": "3.7.3"
  }
 },
 "nbformat": 4,
 "nbformat_minor": 5
}
